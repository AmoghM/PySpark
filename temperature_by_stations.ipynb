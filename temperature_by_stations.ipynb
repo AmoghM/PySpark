{
 "cells": [
  {
   "cell_type": "code",
   "execution_count": 1,
   "metadata": {},
   "outputs": [],
   "source": [
    "from pyspark import SparkContext, SparkConf"
   ]
  },
  {
   "cell_type": "markdown",
   "metadata": {},
   "source": [
    "## Min, Max Temperature by weather station Program\n",
    "### Steps followed:\n",
    "1. Read the weather station data of 1800 file.\n",
    "2. Parse each line of the dataset.\n",
    "3. Filter the rows which have \"TMIN\" and \"TMAX\" i.e. min, max weather recorded.\n",
    "4. Create an rdd having K,V pair with K = weather station, V = temperature recorded.\n",
    "5. Reduce the rdd to save only min and max value per weather station respectively."
   ]
  },
  {
   "cell_type": "code",
   "execution_count": 2,
   "metadata": {},
   "outputs": [],
   "source": [
    "def min_temperature():\n",
    "    conf = SparkConf().setMaster(\"local\").setAppName(\"MinTemperature\")\n",
    "    sc = SparkContext(conf=conf)\n",
    "\n",
    "    # station id, date (yyyy-mm-dd), weather-type, temperature\n",
    "    weather_data = sc.textFile(\"file:////Users/amoghmishra/Desktop/AmoghM/ApacheSpark/dataset/weather_data.csv\")\n",
    "    #Finding minimum temperature by station\n",
    "    min_weather_rdd = weather_data.map(parse).filter(lambda x: \"TMIN\" in x[1])\n",
    "    min_temp_rdd = min_weather_rdd.map(lambda x: (x[0],x[2])).reduceByKey(lambda x,y: min(x,y)) #min across all station's temperature\n",
    "\n",
    "    min_result = min_temp_rdd.collect()\n",
    "    print \"Station Id, Minimum Temperature\"\n",
    "    for res in min_result:\n",
    "        print res[0], res[1]\n",
    "    print \"\\n\"\n",
    "\n",
    "    #Finding maximum temperature by station\n",
    "    max_weather_rdd = weather_data.map(parse).filter(lambda x: \"TMAX\" in x)\n",
    "    max_temp_rdd = max_weather_rdd.map(lambda x: (x[0],x[2])).reduceByKey(lambda x,y: max(x,y))\n",
    "    max_result = max_temp_rdd.collect()\n",
    "\n",
    "    print \"Station Id, Maximum Temperature\"\n",
    "    for res in max_result:\n",
    "        print res[0], res[1]"
   ]
  },
  {
   "cell_type": "code",
   "execution_count": 3,
   "metadata": {},
   "outputs": [],
   "source": [
    "def parse(weather_entry):\n",
    "    entry = weather_entry.split(\",\")\n",
    "    station_id, temp_type, temperature = entry[0], entry[2], entry[3]\n",
    "    temperature = float(temperature)/10 #actual temp = temperature in the dataset / 10\n",
    "\n",
    "    return (station_id, temp_type, temperature)"
   ]
  },
  {
   "cell_type": "code",
   "execution_count": 4,
   "metadata": {},
   "outputs": [
    {
     "name": "stdout",
     "output_type": "stream",
     "text": [
      "Station Id, Minimum Temperature\n",
      "ITE00100554 -14.8\n",
      "EZE00100082 -13.5\n",
      "\n",
      "\n",
      "Station Id, Maximum Temperature\n",
      "ITE00100554 32.3\n",
      "EZE00100082 32.3\n"
     ]
    }
   ],
   "source": [
    "if __name__==\"__main__\":\n",
    "    min_temperature()"
   ]
  },
  {
   "cell_type": "code",
   "execution_count": null,
   "metadata": {},
   "outputs": [],
   "source": []
  }
 ],
 "metadata": {
  "kernelspec": {
   "display_name": "Python 2",
   "language": "python",
   "name": "python2"
  },
  "language_info": {
   "codemirror_mode": {
    "name": "ipython",
    "version": 2
   },
   "file_extension": ".py",
   "mimetype": "text/x-python",
   "name": "python",
   "nbconvert_exporter": "python",
   "pygments_lexer": "ipython2",
   "version": "2.7.10"
  },
  "widgets": {
   "application/vnd.jupyter.widget-state+json": {
    "state": {},
    "version_major": 2.0,
    "version_minor": 0.0
   }
  }
 },
 "nbformat": 4,
 "nbformat_minor": 2
}
