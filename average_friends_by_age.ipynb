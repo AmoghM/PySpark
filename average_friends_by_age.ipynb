{
 "cells": [
  {
   "cell_type": "code",
   "execution_count": 1,
   "metadata": {},
   "outputs": [],
   "source": [
    "from pyspark import SparkConf, SparkContext"
   ]
  },
  {
   "cell_type": "markdown",
   "metadata": {},
   "source": [
    "## Average Friends by Age Program\n",
    "### Steps followed:\n",
    "1. Read the social media dataset.\n",
    "2. Parse each line of the dataset to return (age, #friends).\n",
    "3. Convert (age, #friends) to (age,(friends,1)) and count the total friends and total people of that age as: \\begin{equation*}\n",
    "(age, (\\sum friends, \\sum count ))\n",
    "\\end{equation*}\n",
    "4. Find the average no. of friends by age"
   ]
  },
  {
   "cell_type": "code",
   "execution_count": 2,
   "metadata": {},
   "outputs": [],
   "source": [
    "def find_friends_by_age():\n",
    "    conf = SparkConf().setMaster(\"local\").setAppName(\"FriendsByAge\")\n",
    "    sc = SparkContext(conf=conf)\n",
    "\n",
    "    #row_id, name, age, total friends\n",
    "    social_media_dataset = sc.textFile(\n",
    "        \"file:////Users/amoghmishra/Desktop/AmoghM/ApacheSpark/dataset/social_media_dataset.csv\")\n",
    "    social_media_rdd = social_media_dataset.map(read_data) #parse each line of the dataset\n",
    "\n",
    "    key_value_rdd = social_media_rdd.mapValues(lambda x: (x, 1)).reduceByKey(lambda x, y: (x[0] + y[0], x[1] + y[1])) # count of people and sum of total friends\n",
    "    avg_friends = key_value_rdd.mapValues(lambda x: x[0] / x[1]) #average number of friends.\n",
    "    age_avg_friends = avg_friends.collect()\n",
    "\n",
    "    for res_line in age_avg_friends:\n",
    "        print res_line\n"
   ]
  },
  {
   "cell_type": "code",
   "execution_count": 3,
   "metadata": {},
   "outputs": [],
   "source": [
    "def read_data(line):\n",
    "    line_split = line.split(\",\")\n",
    "    age = int(line_split[2])\n",
    "    friends = int(line_split[3])\n",
    "    return (age, friends)\n"
   ]
  },
  {
   "cell_type": "code",
   "execution_count": 4,
   "metadata": {},
   "outputs": [
    {
     "name": "stdout",
     "output_type": "stream",
     "text": [
      "(18, 343)\n",
      "(19, 213)\n",
      "(20, 165)\n",
      "(21, 350)\n",
      "(22, 206)\n",
      "(23, 246)\n",
      "(24, 233)\n",
      "(25, 197)\n",
      "(26, 242)\n",
      "(27, 228)\n",
      "(28, 209)\n",
      "(29, 215)\n",
      "(30, 235)\n",
      "(31, 267)\n",
      "(32, 207)\n",
      "(33, 325)\n",
      "(34, 245)\n",
      "(35, 211)\n",
      "(36, 246)\n",
      "(37, 249)\n",
      "(38, 193)\n",
      "(39, 169)\n",
      "(40, 250)\n",
      "(41, 268)\n",
      "(42, 303)\n",
      "(43, 230)\n",
      "(44, 282)\n",
      "(45, 309)\n",
      "(46, 223)\n",
      "(47, 233)\n",
      "(48, 281)\n",
      "(49, 184)\n",
      "(50, 254)\n",
      "(51, 302)\n",
      "(52, 340)\n",
      "(53, 222)\n",
      "(54, 278)\n",
      "(55, 295)\n",
      "(56, 306)\n",
      "(57, 258)\n",
      "(58, 116)\n",
      "(59, 220)\n",
      "(60, 202)\n",
      "(61, 256)\n",
      "(62, 220)\n",
      "(63, 384)\n",
      "(64, 281)\n",
      "(65, 298)\n",
      "(66, 276)\n",
      "(67, 214)\n",
      "(68, 269)\n",
      "(69, 235)\n"
     ]
    }
   ],
   "source": [
    "if __name__ == \"__main__\":\n",
    "    find_friends_by_age()"
   ]
  },
  {
   "cell_type": "code",
   "execution_count": null,
   "metadata": {},
   "outputs": [],
   "source": []
  }
 ],
 "metadata": {
  "kernelspec": {
   "display_name": "Python 2",
   "language": "python",
   "name": "python2"
  },
  "language_info": {
   "codemirror_mode": {
    "name": "ipython",
    "version": 2
   },
   "file_extension": ".py",
   "mimetype": "text/x-python",
   "name": "python",
   "nbconvert_exporter": "python",
   "pygments_lexer": "ipython2",
   "version": "2.7.10"
  },
  "widgets": {
   "application/vnd.jupyter.widget-state+json": {
    "state": {},
    "version_major": 2,
    "version_minor": 0
   }
  }
 },
 "nbformat": 4,
 "nbformat_minor": 2
}
